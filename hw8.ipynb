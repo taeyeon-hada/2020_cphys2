{
 "cells": [
  {
   "cell_type": "markdown",
   "metadata": {},
   "source": [
    "##  1. MNIST Digits\n",
    "\n",
    "MNIST 손글씨 이미지를 딥러닝을 이용하여 분류하시오."
   ]
  },
  {
   "cell_type": "code",
   "execution_count": 1,
   "metadata": {},
   "outputs": [
    {
     "name": "stderr",
     "output_type": "stream",
     "text": [
      "Using TensorFlow backend.\n"
     ]
    }
   ],
   "source": [
    "from keras.datasets import mnist\n",
    "from tensorflow import keras\n",
    "from keras import models \n",
    "from keras import layers\n",
    "import numpy as np\n",
    "import matplotlib.pyplot as plt\n",
    "from keras.utils import to_categorical\n",
    "\n",
    "(X, y), (X_test, y_test) = mnist.load_data()"
   ]
  },
  {
   "cell_type": "code",
   "execution_count": 13,
   "metadata": {},
   "outputs": [],
   "source": [
    "(X_train,y_train),(X_test,y_test)=mnist.load_data()\n",
    "y_train=to_categorical(y_train)\n",
    "y_test=to_categorical(y_test)"
   ]
  },
  {
   "cell_type": "code",
   "execution_count": 15,
   "metadata": {},
   "outputs": [],
   "source": [
    "net = models.Sequential()\n",
    "net.add(layers.Dense(512, activation='relu', input_shape=(28*28,))) \n",
    "net.add(layers.Dense(10, activation='softmax')) \n",
    "net.compile(optimizer='nadam',loss='categorical_crossentropy',metrics=['accuracy'])\n",
    "\n",
    "# preprocessing\n",
    "X_train = X_train.reshape((60000, 28*28))\n",
    "X_train = X_train/255\n",
    "\n",
    "X_test = X_test.reshape((10000, 28*28))\n",
    "X_test = X_test/255"
   ]
  },
  {
   "cell_type": "code",
   "execution_count": 16,
   "metadata": {},
   "outputs": [
    {
     "name": "stdout",
     "output_type": "stream",
     "text": [
      "Epoch 1/5\n",
      "60000/60000 [==============================] - 8s 131us/step - loss: 0.2184 - accuracy: 0.9358\n",
      "Epoch 2/5\n",
      "60000/60000 [==============================] - 8s 125us/step - loss: 0.0825 - accuracy: 0.9754\n",
      "Epoch 3/5\n",
      "60000/60000 [==============================] - 8s 127us/step - loss: 0.0502 - accuracy: 0.9845\n",
      "Epoch 4/5\n",
      "60000/60000 [==============================] - 7s 118us/step - loss: 0.0354 - accuracy: 0.98870s - loss: 0.0352 - accuracy: 0.98\n",
      "Epoch 5/5\n",
      "60000/60000 [==============================] - 7s 124us/step - loss: 0.0237 - accuracy: 0.9925\n"
     ]
    },
    {
     "data": {
      "text/plain": [
       "<keras.callbacks.callbacks.History at 0x1e1e192ff28>"
      ]
     },
     "execution_count": 16,
     "metadata": {},
     "output_type": "execute_result"
    }
   ],
   "source": [
    "net.fit(X_train, y_train, epochs=5, batch_size=128)"
   ]
  },
  {
   "cell_type": "code",
   "execution_count": 17,
   "metadata": {},
   "outputs": [
    {
     "name": "stdout",
     "output_type": "stream",
     "text": [
      "10000/10000 [==============================] - 1s 98us/step\n"
     ]
    }
   ],
   "source": [
    "test_loss, test_acc = net.evaluate(X_test,y_test)"
   ]
  },
  {
   "cell_type": "code",
   "execution_count": 18,
   "metadata": {},
   "outputs": [
    {
     "name": "stdout",
     "output_type": "stream",
     "text": [
      "Model: \"sequential_2\"\n",
      "_________________________________________________________________\n",
      "Layer (type)                 Output Shape              Param #   \n",
      "=================================================================\n",
      "dense_3 (Dense)              (None, 512)               401920    \n",
      "_________________________________________________________________\n",
      "dense_4 (Dense)              (None, 10)                5130      \n",
      "=================================================================\n",
      "Total params: 407,050\n",
      "Trainable params: 407,050\n",
      "Non-trainable params: 0\n",
      "_________________________________________________________________\n"
     ]
    }
   ],
   "source": [
    "net.summary()"
   ]
  },
  {
   "cell_type": "code",
   "execution_count": 19,
   "metadata": {},
   "outputs": [
    {
     "name": "stdout",
     "output_type": "stream",
     "text": [
      "Epoch 1/1\n",
      "60000/60000 [==============================] - 8s 133us/step - loss: 0.0188 - accuracy: 0.99380s -\n"
     ]
    },
    {
     "data": {
      "text/plain": [
       "<keras.callbacks.callbacks.History at 0x1e1e1943048>"
      ]
     },
     "execution_count": 19,
     "metadata": {},
     "output_type": "execute_result"
    }
   ],
   "source": [
    "net.fit(X_train, y_train, epochs=1, batch_size=128)"
   ]
  },
  {
   "cell_type": "code",
   "execution_count": 20,
   "metadata": {
    "scrolled": true
   },
   "outputs": [
    {
     "name": "stdout",
     "output_type": "stream",
     "text": [
      "10000/10000 [==============================] - 1s 90us/step\n"
     ]
    }
   ],
   "source": [
    "test_loss, test_acc = net.evaluate(X_test,y_test)"
   ]
  },
  {
   "cell_type": "code",
   "execution_count": 21,
   "metadata": {},
   "outputs": [
    {
     "data": {
      "text/plain": [
       "(60000, 784)"
      ]
     },
     "execution_count": 21,
     "metadata": {},
     "output_type": "execute_result"
    }
   ],
   "source": [
    "X_train.shape"
   ]
  },
  {
   "cell_type": "code",
   "execution_count": 24,
   "metadata": {},
   "outputs": [],
   "source": [
    "X_val = X_train[:10000]\n",
    "partial_X_train = X_train[10000:]\n",
    "\n",
    "y_val = y_train[:10000]\n",
    "partial_y_train = y_train[10000:]"
   ]
  },
  {
   "cell_type": "code",
   "execution_count": 25,
   "metadata": {},
   "outputs": [
    {
     "name": "stdout",
     "output_type": "stream",
     "text": [
      "Train on 50000 samples, validate on 10000 samples\n",
      "Epoch 1/20\n",
      "50000/50000 [==============================] - 7s 133us/step - loss: 0.0130 - accuracy: 0.9960 - val_loss: 0.0144 - val_accuracy: 0.9956\n",
      "Epoch 2/20\n",
      "50000/50000 [==============================] - 7s 133us/step - loss: 0.0108 - accuracy: 0.9967 - val_loss: 0.0275 - val_accuracy: 0.9921\n",
      "Epoch 3/20\n",
      "50000/50000 [==============================] - 6s 129us/step - loss: 0.0100 - accuracy: 0.9969 - val_loss: 0.0214 - val_accuracy: 0.9920\n",
      "Epoch 4/20\n",
      "50000/50000 [==============================] - 7s 133us/step - loss: 0.0103 - accuracy: 0.9969 - val_loss: 0.0275 - val_accuracy: 0.9909\n",
      "Epoch 5/20\n",
      "50000/50000 [==============================] - 7s 131us/step - loss: 0.0091 - accuracy: 0.9973 - val_loss: 0.0289 - val_accuracy: 0.9905\n",
      "Epoch 6/20\n",
      "50000/50000 [==============================] - 7s 135us/step - loss: 0.0075 - accuracy: 0.9979 - val_loss: 0.0359 - val_accuracy: 0.9894\n",
      "Epoch 7/20\n",
      "50000/50000 [==============================] - 7s 133us/step - loss: 0.0085 - accuracy: 0.9970 - val_loss: 0.0321 - val_accuracy: 0.9890\n",
      "Epoch 8/20\n",
      "50000/50000 [==============================] - 6s 122us/step - loss: 0.0065 - accuracy: 0.9978 - val_loss: 0.0463 - val_accuracy: 0.9871\n",
      "Epoch 9/20\n",
      "50000/50000 [==============================] - 7s 134us/step - loss: 0.0090 - accuracy: 0.9970 - val_loss: 0.0341 - val_accuracy: 0.9903\n",
      "Epoch 10/20\n",
      "50000/50000 [==============================] - 6s 126us/step - loss: 0.0041 - accuracy: 0.9985 - val_loss: 0.0485 - val_accuracy: 0.9877\n",
      "Epoch 11/20\n",
      "50000/50000 [==============================] - 6s 129us/step - loss: 0.0062 - accuracy: 0.9979 - val_loss: 0.0600 - val_accuracy: 0.9848\n",
      "Epoch 12/20\n",
      "50000/50000 [==============================] - 7s 134us/step - loss: 0.0094 - accuracy: 0.9966 - val_loss: 0.0566 - val_accuracy: 0.9866\n",
      "Epoch 13/20\n",
      "50000/50000 [==============================] - 6s 129us/step - loss: 0.0085 - accuracy: 0.9970 - val_loss: 0.0464 - val_accuracy: 0.9882\n",
      "Epoch 14/20\n",
      "50000/50000 [==============================] - 7s 139us/step - loss: 0.0057 - accuracy: 0.9980 - val_loss: 0.0449 - val_accuracy: 0.9880: 0s - loss: 0.005\n",
      "Epoch 15/20\n",
      "50000/50000 [==============================] - 7s 137us/step - loss: 0.0034 - accuracy: 0.9989 - val_loss: 0.0401 - val_accuracy: 0.9903\n",
      "Epoch 16/20\n",
      "50000/50000 [==============================] - 7s 130us/step - loss: 0.0024 - accuracy: 0.9993 - val_loss: 0.0490 - val_accuracy: 0.9886\n",
      "Epoch 17/20\n",
      "50000/50000 [==============================] - 6s 130us/step - loss: 0.0033 - accuracy: 0.9989 - val_loss: 0.0622 - val_accuracy: 0.9862\n",
      "Epoch 18/20\n",
      "50000/50000 [==============================] - 6s 130us/step - loss: 0.0085 - accuracy: 0.9973 - val_loss: 0.0690 - val_accuracy: 0.9848\n",
      "Epoch 19/20\n",
      "50000/50000 [==============================] - 7s 135us/step - loss: 0.0097 - accuracy: 0.9967 - val_loss: 0.0751 - val_accuracy: 0.9861\n",
      "Epoch 20/20\n",
      "50000/50000 [==============================] - 6s 122us/step - loss: 0.0042 - accuracy: 0.9986 - val_loss: 0.0570 - val_accuracy: 0.9892\n"
     ]
    }
   ],
   "source": [
    "val = net.fit(partial_X_train,partial_y_train,epochs=20, batch_size=128, validation_data=(X_val, y_val))"
   ]
  },
  {
   "cell_type": "code",
   "execution_count": 26,
   "metadata": {},
   "outputs": [],
   "source": [
    "val_dict = val.history\n",
    "loss = val_dict['loss']\n",
    "val_loss = val_dict['val_loss']"
   ]
  },
  {
   "cell_type": "code",
   "execution_count": 27,
   "metadata": {
    "scrolled": true
   },
   "outputs": [
    {
     "data": {
      "text/plain": [
       "<matplotlib.legend.Legend at 0x1e1e2296128>"
      ]
     },
     "execution_count": 27,
     "metadata": {},
     "output_type": "execute_result"
    },
    {
     "data": {
      "image/png": "[encoded data removed]",
      "text/plain": [
       "<Figure size 432x288 with 1 Axes>"
      ]
     },
     "metadata": {
      "needs_background": "light"
     },
     "output_type": "display_data"
    }
   ],
   "source": [
    "x = np.arange(0,len(loss))\n",
    "plt.plot(x,loss,'bo',label='E')\n",
    "plt.plot(x,val_loss,'ro',label='$E_v$')\n",
    "plt.legend()"
   ]
  },
  {
   "cell_type": "markdown",
   "metadata": {},
   "source": [
    "## 2. Fashin MNIST\n",
    "\n",
    "MNIST 패션 이미지를 딥러닝을 이용하여 분류하시오.\n",
    "MNIST 패션데이터는 10종류의 60000개 패션 학습데이터와 10000개의 테스트 데이터로 구성되어 있습니다. 각각의 레이블의 의미는 다음과 같습니다.\n",
    "\n",
    "\n",
    "Label\tDescription\n",
    "0\tT-shirt/top\n",
    "1\tTrouser\n",
    "2\tPullover\n",
    "3\tDress\n",
    "4\tCoat\n",
    "5\tSandal\n",
    "6\tShirt\n",
    "7\tSneaker\n",
    "8\tBag\n",
    "9\tAnkle boot"
   ]
  },
  {
   "cell_type": "code",
   "execution_count": 40,
   "metadata": {},
   "outputs": [],
   "source": [
    "from keras.datasets import fashion_mnist\n",
    "from keras.utils import to_categorical\n",
    "(X, y), (X_test, y_test) = fashion_mnist.load_data()\n",
    "(X_train,y_train),(X_test,y_test)=mnist.load_data()\n",
    "y_test=to_categorical(y_test)"
   ]
  },
  {
   "cell_type": "code",
   "execution_count": 41,
   "metadata": {},
   "outputs": [
    {
     "data": {
      "text/plain": [
       "(60000, 28, 28)"
      ]
     },
     "execution_count": 41,
     "metadata": {},
     "output_type": "execute_result"
    }
   ],
   "source": [
    "X.shape"
   ]
  },
  {
   "cell_type": "code",
   "execution_count": 42,
   "metadata": {},
   "outputs": [
    {
     "data": {
      "text/plain": [
       "(9, <matplotlib.image.AxesImage at 0x1e1e2421f98>)"
      ]
     },
     "execution_count": 42,
     "metadata": {},
     "output_type": "execute_result"
    },
    {
     "data": {
      "image/png": "[encoded data removed]",
      "text/plain": [
       "<Figure size 432x288 with 1 Axes>"
      ]
     },
     "metadata": {
      "needs_background": "light"
     },
     "output_type": "display_data"
    }
   ],
   "source": [
    "y[0], plt.imshow(X[0],cmap=plt.cm.binary) # Ankle boot"
   ]
  },
  {
   "cell_type": "code",
   "execution_count": 43,
   "metadata": {},
   "outputs": [
    {
     "data": {
      "text/plain": [
       "(0, <matplotlib.image.AxesImage at 0x1e1e247d940>)"
      ]
     },
     "execution_count": 43,
     "metadata": {},
     "output_type": "execute_result"
    },
    {
     "data": {
      "image/png": "[encoded data removed]",
      "text/plain": [
       "<Figure size 432x288 with 1 Axes>"
      ]
     },
     "metadata": {
      "needs_background": "light"
     },
     "output_type": "display_data"
    }
   ],
   "source": [
    "y[1], plt.imshow(X[1],cmap=plt.cm.binary) # T-shirt"
   ]
  },
  {
   "cell_type": "markdown",
   "metadata": {},
   "source": [
    "손글씨 데이터 분류처럼 패션 데이터를 딥러닝을 이용하여 분류하시오."
   ]
  },
  {
   "cell_type": "code",
   "execution_count": 44,
   "metadata": {},
   "outputs": [],
   "source": [
    "net = models.Sequential()\n",
    "net.add(layers.Dense(512, activation='relu', input_shape=(28*28,))) \n",
    "net.add(layers.Dense(10, activation='softmax')) \n",
    "net.compile(optimizer='nadam',loss='categorical_crossentropy',metrics=['accuracy'])\n",
    "\n",
    "# preprocessing\n",
    "X_train = X_train.reshape((60000, 28*28))\n",
    "X_train = X_train/255\n",
    "\n",
    "X_test = X_test.reshape((10000, 28*28))\n",
    "X_test = X_test/255"
   ]
  },
  {
   "cell_type": "code",
   "execution_count": 46,
   "metadata": {},
   "outputs": [
    {
     "name": "stdout",
     "output_type": "stream",
     "text": [
      "Model: \"sequential_5\"\n",
      "_________________________________________________________________\n",
      "Layer (type)                 Output Shape              Param #   \n",
      "=================================================================\n",
      "dense_9 (Dense)              (None, 512)               401920    \n",
      "_________________________________________________________________\n",
      "dense_10 (Dense)             (None, 10)                5130      \n",
      "=================================================================\n",
      "Total params: 407,050\n",
      "Trainable params: 407,050\n",
      "Non-trainable params: 0\n",
      "_________________________________________________________________\n"
     ]
    }
   ],
   "source": [
    "net.summary()"
   ]
  },
  {
   "cell_type": "code",
   "execution_count": null,
   "metadata": {},
   "outputs": [],
   "source": []
  }
 ],
 "metadata": {
  "kernelspec": {
   "display_name": "Python 3",
   "language": "python",
   "name": "python3"
  },
  "language_info": {
   "codemirror_mode": {
    "name": "ipython",
    "version": 3
   },
   "file_extension": ".py",
   "mimetype": "text/x-python",
   "name": "python",
   "nbconvert_exporter": "python",
   "pygments_lexer": "ipython3",
   "version": "3.6.12"
  }
 },
 "nbformat": 4,
 "nbformat_minor": 4
}
